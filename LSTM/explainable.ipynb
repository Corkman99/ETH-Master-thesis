{
 "cells": [
  {
   "cell_type": "code",
   "execution_count": 1,
   "metadata": {},
   "outputs": [
    {
     "name": "stderr",
     "output_type": "stream",
     "text": [
      "/home/mfroelich/.conda/envs/explainable/lib/python3.12/site-packages/tqdm/auto.py:21: TqdmWarning: IProgress not found. Please update jupyter and ipywidgets. See https://ipywidgets.readthedocs.io/en/stable/user_install.html\n",
      "  from .autonotebook import tqdm as notebook_tqdm\n"
     ]
    }
   ],
   "source": [
    "import torch as th\n",
    "from tint.attr import DynaMask\n",
    "from tint.models import MLP\n",
    "import xarray as xr\n",
    "import numpy as np\n",
    "import joblib\n",
    "th.manual_seed(16)\n",
    "\n",
    "from modelClass3 import CustomLSTM\n",
    "import torch.nn as nn"
   ]
  },
  {
   "cell_type": "code",
   "execution_count": 2,
   "metadata": {},
   "outputs": [
    {
     "data": {
      "text/plain": [
       "CustomLSTM(\n",
       "  (lstm): LSTM(3, 48)\n",
       "  (dropout): Dropout(p=0.3, inplace=False)\n",
       "  (linear): Linear(in_features=48, out_features=24, bias=True)\n",
       ")"
      ]
     },
     "execution_count": 2,
     "metadata": {},
     "output_type": "execute_result"
    }
   ],
   "source": [
    "model_dict = th.load('/home/mfroelich/Thesis/LSTM_final/models/best_model.pth')\n",
    "model = CustomLSTM(3,3,48,True,8)\n",
    "model.load_state_dict(model_dict)\n",
    "model.eval()"
   ]
  },
  {
   "cell_type": "code",
   "execution_count": 65,
   "metadata": {},
   "outputs": [],
   "source": [
    "ds = xr.open_dataset('/net/litho/atmosdyn2/mfroelich/TS_TX1day_mean-lvl',\n",
    "                     chunks={'year':1,'lat':361,'lon':721,'trajtime':121})[['adv','adiab','diab']]\n",
    "sub = ds.sel({'year':1989,'lat':30,'lon':-65},drop=True)\n",
    "sub = sub.fillna(0)\n",
    "sub = np.stack((sub['adv'].values,sub['adiab'].values,sub['diab'].values),axis=-1)\n",
    "input = sub[:113,:]\n",
    "output = sub[-8:,:]"
   ]
  },
  {
   "cell_type": "code",
   "execution_count": 66,
   "metadata": {},
   "outputs": [],
   "source": [
    "adv_scaler = joblib.load('/home/mfroelich/Thesis/LSTM_results/scalerAdv.gz')\n",
    "adiab_scaler = joblib.load('/home/mfroelich/Thesis/LSTM_results/scalerAdiab.gz')\n",
    "diab_scaler = joblib.load('/home/mfroelich/Thesis/LSTM_results/scalerDiab.gz')\n",
    "\n",
    "input_trans = np.stack((adv_scaler.transform(input[:,[0]]),\n",
    "                        adiab_scaler.transform(input[:,[1]]),\n",
    "                        diab_scaler.transform(input[:,[2]])),axis=-1)"
   ]
  },
  {
   "cell_type": "code",
   "execution_count": 67,
   "metadata": {},
   "outputs": [
    {
     "name": "stdout",
     "output_type": "stream",
     "text": [
      "torch.Size([113, 1, 48])\n"
     ]
    }
   ],
   "source": [
    "with th.no_grad():\n",
    "    pred_trans, h = model(th.Tensor(input_trans))\n",
    "\n",
    "print(h.shape)\n",
    "\n",
    "pred = np.stack((adv_scaler.inverse_transform(pred_trans[:,0,[0]]),\n",
    "                adiab_scaler.inverse_transform(pred_trans[:,0,[1]]),\n",
    "                diab_scaler.inverse_transform(pred_trans[:,0,[2]])),axis=-1)"
   ]
  },
  {
   "cell_type": "code",
   "execution_count": 68,
   "metadata": {},
   "outputs": [
    {
     "data": {
      "text/plain": [
       "<matplotlib.legend.Legend at 0x7f6939e77740>"
      ]
     },
     "execution_count": 68,
     "metadata": {},
     "output_type": "execute_result"
    },
    {
     "data": {
      "image/png": "[encoded data removed]",
      "text/plain": [
       "<Figure size 640x480 with 1 Axes>"
      ]
     },
     "metadata": {},
     "output_type": "display_data"
    }
   ],
   "source": [
    "import matplotlib.pyplot as plt\n",
    "x = np.stack((range(0,121),range(0,121),range(0,121)),axis=-1)\n",
    "plt.plot(x,sub,label=['adv','adiab','diab'])\n",
    "plt.plot(x[-8:,:],pred.squeeze(),label=['adv2','adiab2','diab2'])\n",
    "plt.legend()"
   ]
  },
  {
   "cell_type": "markdown",
   "metadata": {},
   "source": [
    "Now, need to get the SAME but when processing with batch_first configuration. We need to modify the forward pass to reshape first:"
   ]
  },
  {
   "cell_type": "code",
   "execution_count": 69,
   "metadata": {},
   "outputs": [
    {
     "data": {
      "text/plain": [
       "<All keys matched successfully>"
      ]
     },
     "execution_count": 69,
     "metadata": {},
     "output_type": "execute_result"
    }
   ],
   "source": [
    "class ModifiedLSTMModel(CustomLSTM):\n",
    "    def __init__(self,input_size, out_dim,hidden_size, init_zero, forecast_steps):\n",
    "        super(ModifiedLSTMModel, self).__init__(input_size, out_dim,hidden_size, init_zero, forecast_steps)\n",
    "    \n",
    "        self.lstm = nn.LSTM(\n",
    "                input_size=input_size,\n",
    "                hidden_size=hidden_size,\n",
    "                num_layers=1,\n",
    "                dtype=th.float,\n",
    "                batch_first=True)\n",
    "    \n",
    "    def forward(self,seq):\n",
    "        hidden, (_, _) = self.lstm(seq,(th.zeros(self.num_layers, seq.shape[0], self.hidden_size, dtype=th.float),\n",
    "                                        th.zeros(self.num_layers, seq.shape[0], self.hidden_size, dtype=th.float))) # hidden has shape (seq_length,batch_size,hidden_size), hidden[-1].shape = (batch_size,hidden_size)\n",
    "        out = self.dropout(hidden[:,-1,:])\n",
    "        out = self.linear(out)\n",
    "        out = out.view(seq.shape[0],self.forecast_steps,-1) # formatting\n",
    "        return out\n",
    "\n",
    "model_batch_first = ModifiedLSTMModel(3,3,48,True,8)\n",
    "model_batch_first.load_state_dict(model.state_dict())"
   ]
  },
  {
   "cell_type": "code",
   "execution_count": 70,
   "metadata": {},
   "outputs": [],
   "source": [
    "batch_first_input_trans = th.Tensor(input_trans).permute(1,0,2)\n",
    "\n",
    "model_batch_first.eval()\n",
    "with th.no_grad():\n",
    "    batch_first_pred_trans = model_batch_first(batch_first_input_trans)\n",
    "\n",
    "batch_first_pred = np.stack((adv_scaler.inverse_transform(batch_first_pred_trans[0,:,[0]]),\n",
    "                adiab_scaler.inverse_transform(batch_first_pred_trans[0,:,[1]]),\n",
    "                diab_scaler.inverse_transform(batch_first_pred_trans[0,:,[2]])),axis=-1)\n"
   ]
  },
  {
   "cell_type": "markdown",
   "metadata": {},
   "source": [
    "We are good!"
   ]
  },
  {
   "cell_type": "code",
   "execution_count": 71,
   "metadata": {},
   "outputs": [
    {
     "name": "stderr",
     "output_type": "stream",
     "text": [
      "GPU available: False, used: False\n",
      "TPU available: False, using: 0 TPU cores\n",
      "HPU available: False, using: 0 HPUs\n",
      "/home/mfroelich/.conda/envs/explainable/lib/python3.12/site-packages/pytorch_lightning/trainer/configuration_validator.py:70: You defined a `validation_step` but have no `val_dataloader`. Skipping val loop.\n",
      "\n",
      "  | Name  | Type    | Params | Mode \n",
      "------------------------------------------\n",
      "0 | net   | Mask    | 339    | train\n",
      "1 | _loss | MSELoss | 0      | train\n",
      "------------------------------------------\n",
      "339       Trainable params\n",
      "0         Non-trainable params\n",
      "339       Total params\n",
      "0.001     Total estimated model params size (MB)\n",
      "2         Modules in train mode\n",
      "0         Modules in eval mode\n",
      "/home/mfroelich/.conda/envs/explainable/lib/python3.12/site-packages/pytorch_lightning/trainer/connectors/data_connector.py:424: The 'train_dataloader' does not have many workers which may be a bottleneck. Consider increasing the value of the `num_workers` argument` to `num_workers=3` in the `DataLoader` to improve performance.\n",
      "/home/mfroelich/.conda/envs/explainable/lib/python3.12/site-packages/pytorch_lightning/loops/fit_loop.py:298: The number of training batches (1) is smaller than the logging interval Trainer(log_every_n_steps=50). Set a lower value for log_every_n_steps if you want to see logs for the training epoch.\n"
     ]
    },
    {
     "name": "stdout",
     "output_type": "stream",
     "text": [
      "Epoch 99: 100%|██████████| 1/1 [00:00<00:00, 74.08it/s, v_num=9] "
     ]
    },
    {
     "name": "stderr",
     "output_type": "stream",
     "text": [
      "`Trainer.fit` stopped: `max_epochs=100` reached.\n"
     ]
    },
    {
     "name": "stdout",
     "output_type": "stream",
     "text": [
      "Epoch 99: 100%|██████████| 1/1 [00:00<00:00, 49.90it/s, v_num=9]\n"
     ]
    },
    {
     "name": "stderr",
     "output_type": "stream",
     "text": [
      "/home/mfroelich/.conda/envs/explainable/lib/python3.12/site-packages/pytorch_lightning/trainer/connectors/data_connector.py:424: The 'predict_dataloader' does not have many workers which may be a bottleneck. Consider increasing the value of the `num_workers` argument` to `num_workers=3` in the `DataLoader` to improve performance.\n"
     ]
    },
    {
     "name": "stdout",
     "output_type": "stream",
     "text": [
      "Predicting DataLoader 0: 100%|██████████| 1/1 [00:00<00:00, 243.08it/s]\n"
     ]
    }
   ],
   "source": [
    "explainer = DynaMask(model_batch_first)\n",
    "attr = explainer.attribute(batch_first_input_trans)"
   ]
  },
  {
   "cell_type": "code",
   "execution_count": 72,
   "metadata": {},
   "outputs": [
    {
     "data": {
      "text/plain": [
       "<matplotlib.colorbar.Colorbar at 0x7f6922e9afc0>"
      ]
     },
     "execution_count": 72,
     "metadata": {},
     "output_type": "execute_result"
    },
    {
     "data": {
      "image/png": "[encoded data removed]",
      "text/plain": [
       "<Figure size 640x480 with 2 Axes>"
      ]
     },
     "metadata": {},
     "output_type": "display_data"
    }
   ],
   "source": [
    "plt.imshow(attr.squeeze().permute(1,0),cmap='Spectral_r')\n",
    "plt.colorbar(orientation='horizontal')"
   ]
  }
 ],
 "metadata": {
  "kernelspec": {
   "display_name": "explainable",
   "language": "python",
   "name": "python3"
  },
  "language_info": {
   "codemirror_mode": {
    "name": "ipython",
    "version": 3
   },
   "file_extension": ".py",
   "mimetype": "text/x-python",
   "name": "python",
   "nbconvert_exporter": "python",
   "pygments_lexer": "ipython3",
   "version": "3.12.2"
  }
 },
 "nbformat": 4,
 "nbformat_minor": 2
}
